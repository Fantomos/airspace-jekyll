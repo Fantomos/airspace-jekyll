{
 "cells": [
  {
   "cell_type": "markdown",
   "metadata": {},
   "source": [
    "# Chapitre 7 : Transmission de puissance par fluides faiblement compressibles\n",
    "\n",
    "  \n",
    " \n",
    "## 7.1.1. Tuyau rigide\n",
    "\n",
    "\n",
    "#### 1)\tIl est alors préférable de modéliser le tuyau comme :\n",
    "\n",
    "Réponse : **d)** Une restriction seule - éléments R\n",
    "\n",
    "\n",
    "#### 2) Choisir la modélisation du tuyau la plus appropriée :\n",
    "\n",
    "Réponse : **d)** Plusieurs ensembles R, C et I en série\n",
    "\n",
    "## 7.1.2. Chambre de vérin hydraulique\n",
    "\n",
    "#### 1) Quelle équation représente :\n",
    "\n",
    "  - La transformation effort / pression :  **a**\n",
    "  - La transformation débit / vitesse :  **a**\n",
    "  - La compressibilité du fluide : **aucune**\n",
    "  - Les fuites hydrauliques externes : **aucune**\n",
    "\n",
    "#### 2) Quelle est la convention de signe associée au débit au niveau du port hydraulique : \n",
    "\n",
    "**a)** un débit positif équivaut à une vitesse de piston positive\n",
    "\n",
    "\n",
    "\n",
    "## Suite : [Chapitre 7. Problèmes](Chapitre 7. Problemes.ipynb)"
   ]
  },
  {
   "cell_type": "code",
   "execution_count": null,
   "metadata": {},
   "outputs": [],
   "source": []
  }
 ],
 "metadata": {
  "kernelspec": {
   "display_name": "Python 3",
   "language": "python",
   "name": "python3"
  },
  "language_info": {
   "codemirror_mode": {
    "name": "ipython",
    "version": 3
   },
   "file_extension": ".py",
   "mimetype": "text/x-python",
   "name": "python",
   "nbconvert_exporter": "python",
   "pygments_lexer": "ipython3",
   "version": "3.6.5"
  }
 },
 "nbformat": 4,
 "nbformat_minor": 2
}
