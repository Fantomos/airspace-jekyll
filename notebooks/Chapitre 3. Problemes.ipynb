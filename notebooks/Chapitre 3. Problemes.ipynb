{
 "cells": [
  {
   "cell_type": "markdown",
   "metadata": {},
   "source": [
    "# Chapitre 3 : Obtention des paramètres par approches énergétiques   \n",
    "  \n",
    " \n",
    " \n",
    "## 8.1.\tDirections assistées\n",
    "\n",
    " \n",
    " \n",
    " \n",
    "## 8.2.\tMiroir piloté à large bande passante\n",
    "\n",
    "\n",
    "\n"
   ]
  }
 ],
 "metadata": {
  "kernelspec": {
   "display_name": "Python 3",
   "language": "python",
   "name": "python3"
  },
  "language_info": {
   "codemirror_mode": {
    "name": "ipython",
    "version": 3
   },
   "file_extension": ".py",
   "mimetype": "text/x-python",
   "name": "python",
   "nbconvert_exporter": "python",
   "pygments_lexer": "ipython3",
   "version": "3.6.5"
  }
 },
 "nbformat": 4,
 "nbformat_minor": 2
}
