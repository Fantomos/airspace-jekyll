{
 "cells": [
  {
   "cell_type": "markdown",
   "metadata": {},
   "source": [
    "# Chapter 7 : Power transmission by low-compressibility fluids\n",
    "\n",
    "  \n",
    " \n",
    "## 7.1.1. Rigid pipe\n",
    "\n",
    "\n",
    "#### 1)\tIt is then preferable to model the pipe as :\n",
    "\n",
    "Answer : **d)** One restriction only - R elements\n",
    "\n",
    "\n",
    "#### 2) Choose the most appropriate pipe modeling :\n",
    "\n",
    "Answer : **d)** Several R, C and I assemblies in series\n",
    "\n",
    "## 7.1.2. Hydraulic actuator chamber\n",
    "\n",
    "#### 1) What equation represents :\n",
    "\n",
    "  - The transformation of effort / pressure:  **a**\n",
    "  - The flow / speed transformation:  **a**\n",
    "  - The compressibility of the fluid: **None**\n",
    "  - External hydraulic leaks: **None**\n",
    "\n",
    "#### 2) What is the sign convention associated with the flow at the hydraulic port ? \n",
    "\n",
    "**a)** a positive flow rate is equivalent to a positive piston speed\n",
    "\n",
    "\n",
    "\n",
    "## Next : [Chapter 7. Problemes](Chapter 7. Problemes.ipynb)"
   ]
  },
  {
   "cell_type": "code",
   "execution_count": null,
   "metadata": {},
   "outputs": [],
   "source": []
  }
 ],
 "metadata": {
  "kernelspec": {
   "display_name": "Python 3",
   "language": "python",
   "name": "python3"
  },
  "language_info": {
   "codemirror_mode": {
    "name": "ipython",
    "version": 3
   },
   "file_extension": ".py",
   "mimetype": "text/x-python",
   "name": "python",
   "nbconvert_exporter": "python",
   "pygments_lexer": "ipython3",
   "version": "3.6.5"
  }
 },
 "nbformat": 4,
 "nbformat_minor": 2
}
