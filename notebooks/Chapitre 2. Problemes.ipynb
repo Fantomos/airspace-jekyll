{
 "cells": [
  {
   "cell_type": "markdown",
   "metadata": {},
   "source": [
    "# Chapitre 2 : Mise en place d’un modèle à paramètres localisés \n",
    "\n",
    "\n",
    "## 6.1.\tRéponse thermique d’un moteur de TGV - Approche déductive\n",
    "\n",
    "#### Ressources à télécharger : Modèle de simulation thermique d'un TGV\n",
    "\n",
    "À télécharger ici : [TGV_Modelisation_Thermique.mo](files/TGV_Modelisation_Thermique.mo)\n",
    "\n",
    "\n",
    "## 6.2.\tModélisation d’un capteur de couple de direction assistée – Analyse d’une géométrie\n",
    "\n",
    "#### Ressources à télécharger : Modèle de simulation vierge d'un capteur de couple de direction assistée - Version élève   \n",
    "\n",
    "Pour pouvoir faire l'exercice, téléchargé cette version :   \n",
    "\n",
    "À télécharger ici : [TorqueSensor_Student.mo](files/TorqueSensor_Student.mo)   \n",
    "\n",
    "#### Ressources à télécharger : Modèle de simulation complet d'un capteur de couple de direction assistée - Version correction  \n",
    "\n",
    "Pour avoir une correction, téléchargé cette version :\n",
    "\n",
    "À télécharger ici : [TorqueSensor.mo](files/TorqueSensor.mo)   \n",
    "\n",
    "\n",
    "\n",
    "\n",
    "## 6.3.\tCalcul du couple de court-circuit du moteur de propulsion de sous-marin – réduction de modèle\n",
    "\n",
    "#### Ressources à télécharger : Modèle de simulation d'un moteur de propulsion de sous-marin\n",
    "\n",
    "À télécharger ici : [Submarine.mo](files/Submarine.mo)   "
   ]
  },
  {
   "cell_type": "code",
   "execution_count": null,
   "metadata": {},
   "outputs": [],
   "source": []
  }
 ],
 "metadata": {
  "kernelspec": {
   "display_name": "Python 3",
   "language": "python",
   "name": "python3"
  },
  "language_info": {
   "codemirror_mode": {
    "name": "ipython",
    "version": 3
   },
   "file_extension": ".py",
   "mimetype": "text/x-python",
   "name": "python",
   "nbconvert_exporter": "python",
   "pygments_lexer": "ipython3",
   "version": "3.6.5"
  }
 },
 "nbformat": 4,
 "nbformat_minor": 2
}
