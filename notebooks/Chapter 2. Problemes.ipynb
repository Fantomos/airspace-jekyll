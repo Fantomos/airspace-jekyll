{
 "cells": [
  {
   "cell_type": "markdown",
   "metadata": {},
   "source": [
    "# Chapter 2 : Fundamental Concepts of Multi-Physics Modelling with Lumped Parameters \n",
    "  \n",
    "\n",
    "\n",
    "## 6.1. Analysis of the conditioning electronics of a pressure sensor\n",
    "\n",
    "#### Resources to download: Pressure sensor simulation model  \n",
    "\n",
    "Correction file to download here : [Chap2_PressureSensor.mo](../files/Chap2_PressureSensor.mo)    \n",
    "\n",
    "\n",
    "\n",
    "\n",
    "## 6.2. Modeling the power transmission of an electric scooter\n",
    "\n",
    "\n",
    "#### Resources to download : Blank scooter simulation model - Student version  \n",
    "\n",
    "To be able to do the exercise, download this version :\n",
    "\n",
    "To download here : [Chap2_Scooter_Student.mo](../files/Chap2_Scooter_Student.mo)\n",
    "\n",
    "\n",
    "#### Resources to download : Blank scooter simulation model - Correction version\n",
    "\n",
    "To get a correction, download this version: \n",
    "\n",
    "To download here : [Chap2_Scooter.mo](../files/Chap2_Scooter.mo)    \n",
    "\n",
    "\n",
    "\n",
    "## 6.3. Modeling of a hydraulic actuator system for rocket thrust vector control   \n",
    "\n",
    "#### Resources to download: Ariane 5 thrust vector control actuation system simulation model - Student version   \n",
    "\n",
    "To be able to do the exercise, download this version :\n",
    "\n",
    "To download here : [Chap2_Ariane.mo](../files/Chap2_Ariane.mo)    \n",
    "\n",
    "#### Resources to download: Ariane 5 thrust vector control actuation system simulation model - Correction version\n",
    "\n",
    "To get a correction, download this version: \n",
    "\n",
    "To download here : [Chap2_Ariane_student.mo](../files/Chap2_Ariane_student.mo)    \n",
    "\n",
    "\n",
    "## 6.4.\tElectromagnetic perturbations\n",
    "\n",
    "####  Resources to download: Electromagnetic disturbance simulation model\n",
    "\n",
    "To download here : [Chap2_PerturbationsCEM.mo](../files/Chap2_PerturbationsCEM.mo)    \n"
   ]
  },
  {
   "cell_type": "code",
   "execution_count": null,
   "metadata": {},
   "outputs": [],
   "source": []
  }
 ],
 "metadata": {
  "kernelspec": {
   "display_name": "Python 3",
   "language": "python",
   "name": "python3"
  },
  "language_info": {
   "codemirror_mode": {
    "name": "ipython",
    "version": 3
   },
   "file_extension": ".py",
   "mimetype": "text/x-python",
   "name": "python",
   "nbconvert_exporter": "python",
   "pygments_lexer": "ipython3",
   "version": "3.6.5"
  }
 },
 "nbformat": 4,
 "nbformat_minor": 2
}
