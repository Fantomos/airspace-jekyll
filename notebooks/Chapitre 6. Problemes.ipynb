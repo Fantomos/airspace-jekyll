{
 "cells": [
  {
   "cell_type": "markdown",
   "metadata": {},
   "source": [
    "# Chapitre 6 : Transmissions de puissance électromécaniques      \n",
    "  \n",
    " \n",
    " \n",
    "## 8.1.\tDirections assistées\n",
    "\n",
    "#### Ressources à télécharger : Modèle de directions assistées\n",
    "\n",
    "À télécharger ici : [Chap6_Steering.mo](../files/Chap6_Steering.mo)\n",
    " \n",
    " \n",
    "## 8.2.\tMiroir piloté à large bande passante\n",
    "\n",
    "#### Ressources à télécharger : Modèle de miroir piloté à large bande passante\n",
    "\n",
    "À télécharger ici : [Chap6_FSM.mo](../files/Chap6_FSM.mo)\n",
    "\n",
    "\n",
    "\n"
   ]
  },
  {
   "cell_type": "code",
   "execution_count": null,
   "metadata": {},
   "outputs": [],
   "source": []
  }
 ],
 "metadata": {
  "kernelspec": {
   "display_name": "Python 3",
   "language": "python",
   "name": "python3"
  },
  "language_info": {
   "codemirror_mode": {
    "name": "ipython",
    "version": 3
   },
   "file_extension": ".py",
   "mimetype": "text/x-python",
   "name": "python",
   "nbconvert_exporter": "python",
   "pygments_lexer": "ipython3",
   "version": "3.6.5"
  }
 },
 "nbformat": 4,
 "nbformat_minor": 2
}
