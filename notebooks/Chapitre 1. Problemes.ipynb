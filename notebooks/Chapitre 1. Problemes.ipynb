{
 "cells": [
  {
   "cell_type": "markdown",
   "metadata": {},
   "source": [
    "# Chapitre 1 : Concepts fondamentaux de la modélisation multi-physique à paramètres localisés   \n",
    "  \n",
    "\n",
    "\n",
    "## 6.1. Analyse de l’électronique de conditionnement d’un capteur de pression\n",
    "\n",
    "#### Ressources à télécharger : Modèle de simulation d'un capteur de pression  \n",
    "\n",
    "À télécharger ici : [PressureSensor.mo](files/PressureSensor.mo)    \n",
    "\n",
    "\n",
    "\n",
    "\n",
    "## 6.2. Modélisation de la transmission de puissance d’un scooter électrique\n",
    "\n",
    "\n",
    "#### Ressources à télécharger : Modèle de simulation vierge du scooter - Version élève\n",
    "Pour pouvoir faire l'exercice, téléchargé cette version :     \n",
    "\n",
    "À télécharger ici : [Scooter_Student.mo](files/Scooter_Student.mo)\n",
    "\n",
    "\n",
    "#### Ressources à télécharger : Modèle de simulation complet  du scooter - Version correction\n",
    "Pour avoir une correction, téléchargé cette version : \n",
    "\n",
    "À télécharger ici : [Scooter.mo](files/Scooter.mo)    \n",
    "\n",
    "\n",
    "\n",
    "## 6.3.\tModélisation d’un système d’actionnement hydraulique de contrôle de vecteur poussée de fusée  \n",
    "\n",
    "#### Ressources à télécharger : Modèle de simulation du système d’actionnement du contrôle de vecteur poussée de Ariane 5\n",
    "\n",
    "À télécharger ici : [Ariane.mo](files/Ariane.mo)    \n",
    "\n",
    "\n",
    "\n",
    "## 6.4.\tPerturbations électromagnétiques\n",
    "\n",
    "#### Ressources à télécharger : Modèle de simulation des perturbations électromagnétiques\n",
    "\n",
    "À télécharger ici : [Perturbations.mo](files/Perturbations.mo)    \n"
   ]
  },
  {
   "cell_type": "code",
   "execution_count": null,
   "metadata": {},
   "outputs": [],
   "source": []
  }
 ],
 "metadata": {
  "kernelspec": {
   "display_name": "Python 3",
   "language": "python",
   "name": "python3"
  },
  "language_info": {
   "codemirror_mode": {
    "name": "ipython",
    "version": 3
   },
   "file_extension": ".py",
   "mimetype": "text/x-python",
   "name": "python",
   "nbconvert_exporter": "python",
   "pygments_lexer": "ipython3",
   "version": "3.6.5"
  }
 },
 "nbformat": 4,
 "nbformat_minor": 2
}
