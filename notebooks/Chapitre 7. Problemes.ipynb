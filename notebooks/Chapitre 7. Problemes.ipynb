{
 "cells": [
  {
   "cell_type": "markdown",
   "metadata": {},
   "source": [
    "# Chapitre 7 : Transmission de puissance par fluides faiblement compressibles\n",
    "\n",
    "\n",
    "## 7.2 Problème 1 : Modélisation simple d’une servovalve hydraulique\n",
    "\n",
    "#### Ressources à télécharger : Modèle de simulation thermique d'un TGV\n",
    "\n",
    "À télécharger ici : [Chap3_TGV_Modelisation_Thermique.mo](../files/Chap3_TGV_Modelisation_Thermique.mo)\n",
    "\n",
    "\n",
    "\n",
    "## 7.3 Problème 2 : Modélisation d’un régulateur de pression"
   ]
  }
 ],
 "metadata": {
  "kernelspec": {
   "display_name": "Python 3",
   "language": "python",
   "name": "python3"
  },
  "language_info": {
   "codemirror_mode": {
    "name": "ipython",
    "version": 3
   },
   "file_extension": ".py",
   "mimetype": "text/x-python",
   "name": "python",
   "nbconvert_exporter": "python",
   "pygments_lexer": "ipython3",
   "version": "3.6.5"
  }
 },
 "nbformat": 4,
 "nbformat_minor": 2
}
