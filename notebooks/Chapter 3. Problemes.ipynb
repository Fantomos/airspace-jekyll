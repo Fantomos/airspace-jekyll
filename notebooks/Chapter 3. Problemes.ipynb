{
 "cells": [
  {
   "cell_type": "markdown",
   "metadata": {},
   "source": [
    "# Chapter 3 : Setting up a lumped parameter model\n",
    "\n",
    "\n",
    "## 6.1.\tThermal response of a TGV engine - Deductive approach\n",
    "\n",
    "#### Resources to download : Thermal simulation model of a high-speed train\n",
    "\n",
    "To download here : [Chap3_TGV_Modelisation_Thermique.mo](../files/Chap3_TGV_Modelisation_Thermique.mo)\n",
    "\n",
    "\n",
    "## 6.2.\tModeling a power steering torque sensor - Analysis of a geometry\n",
    "\n",
    "#### Resources to download : Blank Power Steering Torque Sensor Simulation Model - Student Version   \n",
    "\n",
    "To be able to do the exercise, download this version:   \n",
    "\n",
    "To download here : [Chap3_TorqueSensor_Student.mo](../files/Chap3_TorqueSensor_Student.mo)   \n",
    "\n",
    "#### Resources to download : Complete simulation model of a power steering torque sensor - Correction version  \n",
    "\n",
    "To get a correction, download this version:\n",
    "\n",
    "To download here : [Chap3_TorqueSensor.mo](../files/Chap3_TorqueSensor.mo)  \n",
    "   \n",
    "## 6.3.\tCalculation of the short-circuit torque of the submarine propulsion motor - Model reduction\n",
    "\n",
    "#### Resources to download : Submarine propulsion engine simulation model\n",
    "\n",
    "To download here : [Chap3_Submarine.mo](../files/Chap3_Submarine.mo)   "
   ]
  },
  {
   "cell_type": "code",
   "execution_count": null,
   "metadata": {},
   "outputs": [],
   "source": []
  }
 ],
 "metadata": {
  "kernelspec": {
   "display_name": "Python 3",
   "language": "python",
   "name": "python3"
  },
  "language_info": {
   "codemirror_mode": {
    "name": "ipython",
    "version": 3
   },
   "file_extension": ".py",
   "mimetype": "text/x-python",
   "name": "python",
   "nbconvert_exporter": "python",
   "pygments_lexer": "ipython3",
   "version": "3.6.5"
  }
 },
 "nbformat": 4,
 "nbformat_minor": 2
}
